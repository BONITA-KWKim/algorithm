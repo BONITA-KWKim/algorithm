{
 "cells": [
  {
   "cell_type": "markdown",
   "metadata": {},
   "source": [
    "# Graph\n",
    "## adjacent list\n",
    "* Describing graph problem is that talk about adjacent relationship.\n",
    "  - Using python list, describe adjacent relationship\n",
    "  - Implemente basic graph operation"
   ]
  },
  {
   "cell_type": "code",
   "execution_count": 2,
   "metadata": {},
   "outputs": [],
   "source": [
    "class Vertex:\n",
    "    def __init__(self, data):\n",
    "        self.data = data\n",
    "        self.visited = False\n",
    "        self.adjacent_list = list()"
   ]
  },
  {
   "cell_type": "code",
   "execution_count": 3,
   "metadata": {},
   "outputs": [],
   "source": [
    "class Edge:\n",
    "    def __init__(self, weight=0, v_from=None, v_to=None):\n",
    "        self.weight = weight\n",
    "        self.v_from = v_from\n",
    "        self.v_to = v_to"
   ]
  },
  {
   "cell_type": "code",
   "execution_count": 20,
   "metadata": {},
   "outputs": [],
   "source": [
    "class Graph:\n",
    "    def __init__(self):\n",
    "        self.vertex = []\n",
    "    def show_graph(self):\n",
    "        print(\"***** Print graph *****\")\n",
    "        for idx, item in enumerate(self.vertex):\n",
    "            print(idx, \":\", end='')\n",
    "            for item in item.adjacent_list:\n",
    "                print(\"%d[%d]\" %(item.v_to, item.weight), end='')\n",
    "            print()\n",
    "    def del_graph(self):\n",
    "        for i in self.vertex:\n",
    "            i.adjacent_list.clear()\n",
    "        self.vertex.clear()\n",
    "    '''\n",
    "    Vertex\n",
    "    '''\n",
    "    def add_vertex(self, data):\n",
    "        v = Vertex(data)\n",
    "        self.vertex.append(v)\n",
    "    def del_vertex(self, data):\n",
    "        for idx, item in enumerate(self.vertex):\n",
    "            if item.data == data:\n",
    "                self.vertex.pop(idx)\n",
    "                return True\n",
    "        return False\n",
    "    '''\n",
    "    Edge\n",
    "    '''\n",
    "    def create_edge(self, weight=0, v_from=None, v_to=None):\n",
    "        return Edge(weight, v_from, v_to)\n",
    "    def add_edge(self, edge):\n",
    "        v_from = edge.v_from\n",
    "        if 0 > v_from: return False\n",
    "        self.vertex[v_from].adjacent_list.append(edge)\n",
    "        return True\n",
    "    def del_edge(self, idx):\n",
    "        if idx < 0 or idx >= len(self.edge): return False\n",
    "        self.edge.pop(idx)\n",
    "        return True"
   ]
  },
  {
   "cell_type": "code",
   "execution_count": 9,
   "metadata": {},
   "outputs": [],
   "source": [
    "def BSF(graph):\n",
    "    pass"
   ]
  },
  {
   "cell_type": "code",
   "execution_count": 21,
   "metadata": {},
   "outputs": [],
   "source": [
    "# working in this\n",
    "def DFS(vertex):\n",
    "    if 0 >= len(vertex): return None\n",
    "\n",
    "    vertex[0].visited = True\n",
    "    while True:\n",
    "        e = vertex.adjacent_list.pop()\n",
    "        v = e.v_to\n",
    "        if vertex[v].visited is False:\n",
    "            DFS(vertex[v]);\n",
    "        else:\n",
    "            continue"
   ]
  },
  {
   "cell_type": "code",
   "execution_count": 22,
   "metadata": {},
   "outputs": [
    {
     "name": "stdout",
     "output_type": "stream",
     "text": [
      "***** Print graph *****\n",
      "0 :1[10]2[10]\n",
      "1 :3[10]4[10]\n",
      "2 :3[10]5[10]\n",
      "3 :4[10]6[10]\n",
      "4 :6[10]\n",
      "5 :6[10]\n",
      "6 :\n",
      "***** Print graph *****\n"
     ]
    }
   ],
   "source": [
    "g = Graph()\n",
    "g.add_vertex(1)\n",
    "g.add_vertex(2)\n",
    "g.add_vertex(3)\n",
    "g.add_vertex(4)\n",
    "g.add_vertex(5)\n",
    "g.add_vertex(6)\n",
    "g.add_vertex(7)\n",
    "\n",
    "g.add_edge(g.create_edge(10, 0, 1)) # 1 -> 2\n",
    "g.add_edge(g.create_edge(10, 0, 2)) # 1 -> 3\n",
    "g.add_edge(g.create_edge(10, 1, 3)) # 2 -> 4\n",
    "g.add_edge(g.create_edge(10, 1, 4)) # 2 -> 5\n",
    "g.add_edge(g.create_edge(10, 2, 3)) # 3 -> 4\n",
    "g.add_edge(g.create_edge(10, 2, 5)) # 3 -> 5\n",
    "g.add_edge(g.create_edge(10, 3, 4)) # 4 -> 5\n",
    "g.add_edge(g.create_edge(10, 3, 6)) # 4 -> 7\n",
    "g.add_edge(g.create_edge(10, 4, 6)) # 4 -> 5\n",
    "g.add_edge(g.create_edge(10, 5, 6)) # 4 -> 5\n",
    "\n",
    "g.show_graph()\n",
    "\n",
    "g.del_graph()\n",
    "\n",
    "g.show_graph()"
   ]
  },
  {
   "cell_type": "code",
   "execution_count": null,
   "metadata": {},
   "outputs": [],
   "source": []
  }
 ],
 "metadata": {
  "kernelspec": {
   "display_name": "Python 3",
   "language": "python",
   "name": "python3"
  },
  "language_info": {
   "codemirror_mode": {
    "name": "ipython",
    "version": 3
   },
   "file_extension": ".py",
   "mimetype": "text/x-python",
   "name": "python",
   "nbconvert_exporter": "python",
   "pygments_lexer": "ipython3",
   "version": "3.8.2"
  }
 },
 "nbformat": 4,
 "nbformat_minor": 4
}
