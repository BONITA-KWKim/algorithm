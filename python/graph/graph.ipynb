{
 "cells": [
  {
   "cell_type": "markdown",
   "metadata": {},
   "source": [
    "## 인접리스트"
   ]
  },
  {
   "cell_type": "code",
   "execution_count": 7,
   "metadata": {},
   "outputs": [],
   "source": [
    "class Vertex:\n",
    "    def __init__(self, index, data, v, adjacent):\n",
    "        self.data = data\n",
    "        self.visited = False\n",
    "        self.index = index\n",
    "        self.next = v\n",
    "        self.adjacent_list = None"
   ]
  },
  {
   "cell_type": "code",
   "execution_count": 8,
   "metadata": {},
   "outputs": [],
   "source": [
    "class Edge:\n",
    "    def __init__(self, index, weight, v_from, v_to):\n",
    "        self.index = index\n",
    "        self.weight = weight\n",
    "        self.v_from = v_from\n",
    "        self.v_to = v_to"
   ]
  },
  {
   "cell_type": "code",
   "execution_count": 59,
   "metadata": {},
   "outputs": [],
   "source": [
    "class Graph:\n",
    "    def __init__(self):\n",
    "        self.vertex = []\n",
    "        self.edge = []\n",
    "    def show_graph(self):\n",
    "        print(\"***** Print graph *****\")\n",
    "        self.show_vertex()\n",
    "        self.show_edge()\n",
    "\n",
    "    def add_vertex(self, data):\n",
    "        index = len(self.vertex)\n",
    "        v = Vertex(index, data)\n",
    "        self.vertex.append(v)\n",
    "    def del_vertex(self, index):\n",
    "        for i in self.vertex:\n",
    "            if index == i.index:\n",
    "                self.vertex.remove(i)\n",
    "    def show_vertex(self):\n",
    "        if 0 >= len(self.vertex): return None\n",
    "        print(\"===== Print vertex =====\")\n",
    "        print(\"size:\", len(self.vertex))\n",
    "        for i in self.vertex:\n",
    "            print(\"index:\", i.index, \"data:\", i.data)\n",
    "\n",
    "    def add_edge(self, weight, v_from, v_to):\n",
    "        index = len(self.edge)\n",
    "        e = Edge(index, weight, v_from, v_to)\n",
    "        self.edge.append(e)\n",
    "    def del_edge(self, index):\n",
    "        for i in self.edge:\n",
    "            if index == i.index:\n",
    "                self.edge.remove(i)\n",
    "    def show_edge(self):\n",
    "        if 0 >= len(self.edge): return None\n",
    "        print(\"===== Print edge =====\")\n",
    "        print(\"size:\", len(self.edge))\n",
    "        for i in self.edge:\n",
    "            print(\"index:\", i.index, \"weight:\", i.weight)"
   ]
  },
  {
   "cell_type": "code",
   "execution_count": 60,
   "metadata": {},
   "outputs": [
    {
     "name": "stdout",
     "output_type": "stream",
     "text": [
      "***** Print graph *****\n",
      "===== Print vertex =====\n",
      "size: 4\n",
      "index: 0 data: 10\n",
      "index: 1 data: 11\n",
      "index: 2 data: 20\n",
      "index: 3 data: 21\n",
      "===== Print edge =====\n",
      "size: 2\n",
      "index: 0 weight: 1\n",
      "index: 1 weight: 2\n",
      "***** Print graph *****\n",
      "===== Print vertex =====\n",
      "size: 2\n",
      "index: 0 data: 10\n",
      "index: 1 data: 11\n",
      "===== Print edge =====\n",
      "size: 1\n",
      "index: 0 weight: 1\n"
     ]
    }
   ],
   "source": [
    "g = Graph()\n",
    "g.add_vertex(10)\n",
    "g.add_vertex(11)\n",
    "g.add_edge(1, 0, 1)\n",
    "g.add_vertex(20)\n",
    "g.add_vertex(21)\n",
    "g.add_edge(2, 2, 3)\n",
    "g.show_graph()\n",
    "\n",
    "g.del_edge(1)\n",
    "g.del_vertex(2)\n",
    "g.del_vertex(3)\n",
    "g.show_graph()"
   ]
  }
 ],
 "metadata": {
  "kernelspec": {
   "display_name": "Python 3",
   "language": "python",
   "name": "python3"
  },
  "language_info": {
   "codemirror_mode": {
    "name": "ipython",
    "version": 3
   },
   "file_extension": ".py",
   "mimetype": "text/x-python",
   "name": "python",
   "nbconvert_exporter": "python",
   "pygments_lexer": "ipython3",
   "version": "3.8.2"
  }
 },
 "nbformat": 4,
 "nbformat_minor": 4
}
