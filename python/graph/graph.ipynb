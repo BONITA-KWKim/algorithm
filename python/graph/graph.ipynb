{
 "cells": [
  {
   "cell_type": "markdown",
   "metadata": {},
   "source": [
    "# Graph\n",
    "## adjacent list\n",
    "* Describing graph problem is that talk about adjacent relationship.\n",
    "  - Using python list, describe adjacent relationship\n",
    "  - Implemente basic graph operation"
   ]
  },
  {
   "cell_type": "code",
   "execution_count": 3,
   "metadata": {},
   "outputs": [],
   "source": [
    "class Vertex:\n",
    "    def __init__(self, data):\n",
    "        self.data = data\n",
    "        self.visited = False\n",
    "        self.adjacent_list = list()"
   ]
  },
  {
   "cell_type": "code",
   "execution_count": 4,
   "metadata": {},
   "outputs": [],
   "source": [
    "class Edge:\n",
    "    def __init__(self, weight, v_from, v_to):\n",
    "        self.weight = weight\n",
    "        self.v_from = v_from\n",
    "        self.v_to = v_to"
   ]
  },
  {
   "cell_type": "code",
   "execution_count": 20,
   "metadata": {},
   "outputs": [],
   "source": [
    "class Graph:\n",
    "    def __init__(self):\n",
    "        self.vertex = []\n",
    "        self.edge = []\n",
    "        \n",
    "    def show_graph(self):\n",
    "        print(\"***** Print graph *****\")\n",
    "        self.show_vertex()\n",
    "        self.show_edge()\n",
    "    '''\n",
    "    Vertex\n",
    "    '''\n",
    "    def add_vertex(self, data):\n",
    "        v = Vertex(data)\n",
    "        self.vertex.append(v)\n",
    "    def del_vertex(self, data):\n",
    "        for idx, item in enumerate(self.vertex):\n",
    "            if item.data == data:\n",
    "                self.vertex.pop(idx)\n",
    "                return True\n",
    "        return False\n",
    "    def show_vertex(self):\n",
    "        if 0 >= len(self.vertex): return None\n",
    "        print(\"===== Print vertex =====\")\n",
    "        print(\"size:\", len(self.vertex))\n",
    "        for idx, value in enumerate(self.vertex):\n",
    "            print(\"index:\", idx, \"data:\", value.data)\n",
    "    '''\n",
    "    Edge\n",
    "    '''\n",
    "    def add_edge(self, weight, v_from, v_to):\n",
    "        e = Edge(weight, v_from, v_to)\n",
    "        self.edge.append(e)\n",
    "    def del_edge(self, idx):\n",
    "        if idx < 0 or idx >= len(self.edge): return False\n",
    "        self.edge.pop(idx)\n",
    "        return True\n",
    "    def show_edge(self):\n",
    "        if 0 >= len(self.edge): return None\n",
    "        print(\"===== Print edge =====\")\n",
    "        print(\"size:\", len(self.edge))\n",
    "        for idx, value in enumerate(self.edge):\n",
    "            print(\"index:\", idx, \"data:\", value.weight)"
   ]
  },
  {
   "cell_type": "code",
   "execution_count": 22,
   "metadata": {},
   "outputs": [],
   "source": [
    "def BSF(graph):\n",
    "    pass"
   ]
  },
  {
   "cell_type": "code",
   "execution_count": 23,
   "metadata": {},
   "outputs": [],
   "source": [
    "# working this section\n",
    "def find_start_vertex(graph):\n",
    "    idx = 0\n",
    "    for item in graph.vert:\n",
    "        pass\n",
    "    return graph.vertex[idx]\n",
    "\n",
    "def DFS(graph):\n",
    "    # get start vertex\n",
    "    start_vertex = find_start_vertex(graph)\n",
    "    pass"
   ]
  },
  {
   "cell_type": "code",
   "execution_count": 21,
   "metadata": {},
   "outputs": [
    {
     "name": "stdout",
     "output_type": "stream",
     "text": [
      "***** Print graph *****\n",
      "===== Print vertex =====\n",
      "size: 4\n",
      "index: 0 data: 10\n",
      "index: 1 data: 11\n",
      "index: 2 data: 20\n",
      "index: 3 data: 21\n",
      "===== Print edge =====\n",
      "size: 2\n",
      "index: 0 data: 1\n",
      "index: 1 data: 2\n",
      "***** Print graph *****\n",
      "===== Print vertex =====\n",
      "size: 2\n",
      "index: 0 data: 11\n",
      "index: 1 data: 21\n",
      "===== Print edge =====\n",
      "size: 1\n",
      "index: 0 data: 1\n"
     ]
    }
   ],
   "source": [
    "g = Graph()\n",
    "g.add_vertex(10)\n",
    "g.add_vertex(11)\n",
    "g.add_edge(1, 0, 1)\n",
    "g.add_vertex(20)\n",
    "g.add_vertex(21)\n",
    "g.add_edge(2, 2, 3)\n",
    "g.show_graph()\n",
    "\n",
    "g.del_edge(1)\n",
    "g.del_vertex(10)\n",
    "g.del_vertex(20)\n",
    "g.show_graph()"
   ]
  },
  {
   "cell_type": "code",
   "execution_count": null,
   "metadata": {},
   "outputs": [],
   "source": []
  }
 ],
 "metadata": {
  "kernelspec": {
   "display_name": "Python 3",
   "language": "python",
   "name": "python3"
  },
  "language_info": {
   "codemirror_mode": {
    "name": "ipython",
    "version": 3
   },
   "file_extension": ".py",
   "mimetype": "text/x-python",
   "name": "python",
   "nbconvert_exporter": "python",
   "pygments_lexer": "ipython3",
   "version": "3.8.2"
  }
 },
 "nbformat": 4,
 "nbformat_minor": 4
}
