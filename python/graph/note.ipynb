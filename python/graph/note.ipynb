{
 "cells": [
  {
   "cell_type": "markdown",
   "metadata": {},
   "source": [
    "# 그래프\n",
    "\n",
    "## 그래프의 정의\n",
    "* 정점의 모음과 간선의 모음의 결합\n",
    "* 정점의 집합을 V, 간선의 집합을 E, 그리고 그래프를 G라고 했을 때, G=(V,E)이다.\n",
    "* 인접(adjacent), 이웃 관계: 간선으로 연결된 두 정점\n",
    "* 경로(path): 간선을 통해 이웃 관계가 된 정점들이 그래프 내에서 길(경로)를 이룸\n",
    "* 사이클(cycle): 경로 중 정점 하나를 두 번 이상 거치는 경로\n",
    "* 방향성 그래프(directed graph): 간선이 방향성을 가지는 그래프\n",
    "* 무방향성 그래프(undirected graph): 간선이 방샹성을 가지지 않는 그래프\n",
    "* 연결성(connectivity): 무방향성 그래프 내의 두 정점 사이에 경로가 존재하는 경우 \"두 정점이 연결되어 있다\"라고 한다."
   ]
  },
  {
   "cell_type": "markdown",
   "metadata": {},
   "source": [
    "## 그래프의 표현\n",
    "* 정점: 어떤 자료구조로도 쉽게 표현 가능\n",
    "* 결국 그래프의 표현은 간선의 표현 문제로 귀결\n",
    "  - 인접 행렬(adjacency matrix)\n",
    "  - 인접 리스트(adjacency list)\n",
    "  \n",
    "|     | 장점 | 단점 |\n",
    "| --- | --- | --- |\n",
    "| 인접 행렬 | 인접 여부를 빠르게 파악  | 메모리소비가 큼  |\n",
    "| 인접 리스트 | 메모리 소비가 적음. 정점, 간선의 삽입이 빠름  | 인접 여부를 파악하기 위해 순차 탐색이 필요 |"
   ]
  }
 ],
 "metadata": {
  "kernelspec": {
   "display_name": "Python 3",
   "language": "python",
   "name": "python3"
  },
  "language_info": {
   "codemirror_mode": {
    "name": "ipython",
    "version": 3
   },
   "file_extension": ".py",
   "mimetype": "text/x-python",
   "name": "python",
   "nbconvert_exporter": "python",
   "pygments_lexer": "ipython3",
   "version": "3.8.2"
  }
 },
 "nbformat": 4,
 "nbformat_minor": 4
}
