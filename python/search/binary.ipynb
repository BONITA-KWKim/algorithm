{
 "cells": [
  {
   "cell_type": "markdown",
   "metadata": {},
   "source": [
    "# Binary Search"
   ]
  },
  {
   "cell_type": "markdown",
   "metadata": {},
   "source": [
    "## 정렬\n",
    "* 이진 탐색을 위해 정렬이 필요\n",
    "* 테스트를 위해 삽입 정렬 함수 사용"
   ]
  },
  {
   "cell_type": "code",
   "execution_count": 3,
   "metadata": {},
   "outputs": [],
   "source": [
    "def insert_sort(arr):\n",
    "    size = len(arr)\n",
    "    if 0 >= size: return None\n",
    "    \n",
    "    for i in range(1, size):\n",
    "        picked = arr[i]\n",
    "        \n",
    "        if arr[i-1] < picked:\n",
    "            continue\n",
    "        \n",
    "        for j in range(0,i):\n",
    "            if picked < arr[j]:\n",
    "                arr[j+1:i+1] = arr[j:i]\n",
    "                arr[j] = picked\n",
    "                break;\n",
    "    return arr"
   ]
  },
  {
   "cell_type": "markdown",
   "metadata": {},
   "source": [
    "## 이진 탐색\n",
    "* 이진 탐색을 위한 데이터는 정렬되어 있어야 한다.\n",
    "* 오름차순을 가정하고 탐색을 진행한다.\n",
    "* 탐색 방법\n",
    "  - 탐색 구간을 설정한다. 초기에는 양 끝단을 설정한다.\n",
    "  - 중간 표시자의 값을 구한다. 중간값은 ST를 기준으로 탐색 구간 크기의 절반을 더한다.\n",
    "  - 탐색 구간의 중간값을 구한다. 중간값이 찾고자 하는 데이터(이하 타겟)보다 작으면 SP를 중간값 앞의 인덱스로 변경한다.\n",
    "  - 중간값이 타겟보다 크면 ST를 중간값 다음의 인덱스로 변경한다."
   ]
  },
  {
   "cell_type": "code",
   "execution_count": 40,
   "metadata": {},
   "outputs": [],
   "source": [
    "def binary_search(arr, target):\n",
    "    size = len(arr)\n",
    "    if 0 >= size: return None\n",
    "    \n",
    "    st = 0\n",
    "    sp = size - 1\n",
    "\n",
    "    while (sp >= st):\n",
    "        pos = st + (sp - st)//2\n",
    "        if arr[pos] == target:\n",
    "            return pos\n",
    "        \n",
    "        if arr[pos] < target:\n",
    "            st = pos + 1            \n",
    "        else:\n",
    "            sp = pos - 1 \n",
    "    \n",
    "    return None"
   ]
  },
  {
   "cell_type": "markdown",
   "metadata": {},
   "source": [
    "## test code\n",
    "* 테스트 데이터 세트를 생성\n",
    "* 타겟 설정\n",
    "* 정렬 후 탐색 알고리즘 수행\n",
    "* 결과 출력"
   ]
  },
  {
   "cell_type": "code",
   "execution_count": 44,
   "metadata": {},
   "outputs": [
    {
     "name": "stdout",
     "output_type": "stream",
     "text": [
      "[1, 2, 3, 4, 5, 7, 8]\n",
      "arr: [1, 2, 3, 4, 5, 7, 8] target: 9 result: None\n"
     ]
    }
   ],
   "source": [
    "test_arr = [3, 8, 4, 1, 2, 5, 7]\n",
    "target = 9\n",
    "\n",
    "# sort\n",
    "test_arr = insert_sort(test_arr)\n",
    "# searching\n",
    "rst =  binary_search(test_arr, target)\n",
    "\n",
    "print(\"arr:\", test_arr, \"target:\", target, \"result:\", rst)"
   ]
  }
 ],
 "metadata": {
  "kernelspec": {
   "display_name": "Python 3",
   "language": "python",
   "name": "python3"
  },
  "language_info": {
   "codemirror_mode": {
    "name": "ipython",
    "version": 3
   },
   "file_extension": ".py",
   "mimetype": "text/x-python",
   "name": "python",
   "nbconvert_exporter": "python",
   "pygments_lexer": "ipython3",
   "version": "3.8.2"
  }
 },
 "nbformat": 4,
 "nbformat_minor": 4
}
