{
 "cells": [
  {
   "cell_type": "code",
   "execution_count": 11,
   "metadata": {},
   "outputs": [],
   "source": [
    "def sequential_search(arr, target):\n",
    "    size = len(arr)\n",
    "    if 0 >= size: return None\n",
    "    \n",
    "    for idx, value in enumerate(arr):\n",
    "        if value == target:\n",
    "            return idx\n",
    "        \n",
    "    return None"
   ]
  },
  {
   "cell_type": "code",
   "execution_count": 20,
   "metadata": {},
   "outputs": [],
   "source": [
    "def move_to_front(arr, target):\n",
    "    size = len(arr)\n",
    "    if 0 >= size: return None\n",
    "    \n",
    "    for idx, value in enumerate(arr):\n",
    "        if value == target:\n",
    "            tmp = arr.pop(idx)\n",
    "            arr.insert(0, tmp)\n",
    "            return idx, arr\n",
    "\n",
    "    return None"
   ]
  },
  {
   "cell_type": "code",
   "execution_count": 22,
   "metadata": {},
   "outputs": [],
   "source": [
    "def transpose(arr, target):\n",
    "    size = len(arr)\n",
    "    if 0 >= size: return None\n",
    "    \n",
    "    for idx, value in enumerate(arr):\n",
    "        if value == target:\n",
    "            tmp = arr.pop(idx)\n",
    "            if 0 < idx:\n",
    "                arr.insert(idx-1, tmp)\n",
    "            else:\n",
    "                arr.insert(idx, tmp)\n",
    "            return idx, arr\n",
    "\n",
    "    return None"
   ]
  },
  {
   "cell_type": "code",
   "execution_count": 25,
   "metadata": {},
   "outputs": [
    {
     "name": "stdout",
     "output_type": "stream",
     "text": [
      "target index: 6 arr: [1, 4, 5, 6, 8, 2, 9]\n"
     ]
    }
   ],
   "source": [
    "arr = [4, 5, 6, 8, 2, 9, 1]\n",
    "target = 1\n",
    "# test move_to_front\n",
    "rst, arr = move_to_front(arr, target)\n",
    "print(\"target index:\", rst, \"arr:\", arr)"
   ]
  },
  {
   "cell_type": "code",
   "execution_count": 26,
   "metadata": {},
   "outputs": [
    {
     "name": "stdout",
     "output_type": "stream",
     "text": [
      "target index: 6 arr: [4, 5, 6, 8, 2, 1, 9]\n"
     ]
    }
   ],
   "source": [
    "arr = [4, 5, 6, 8, 2, 9, 1]\n",
    "target = 1\n",
    "# test transpose\n",
    "rst, arr = transpose(arr, target)\n",
    "print(\"target index:\", rst, \"arr:\", arr)"
   ]
  }
 ],
 "metadata": {
  "kernelspec": {
   "display_name": "Python 3",
   "language": "python",
   "name": "python3"
  },
  "language_info": {
   "codemirror_mode": {
    "name": "ipython",
    "version": 3
   },
   "file_extension": ".py",
   "mimetype": "text/x-python",
   "name": "python",
   "nbconvert_exporter": "python",
   "pygments_lexer": "ipython3",
   "version": "3.8.2"
  }
 },
 "nbformat": 4,
 "nbformat_minor": 4
}
