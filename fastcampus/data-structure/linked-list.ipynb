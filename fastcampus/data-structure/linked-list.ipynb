{
 "cells": [
  {
   "cell_type": "code",
   "execution_count": 34,
   "metadata": {},
   "outputs": [],
   "source": [
    "class Node:\n",
    "    def __init__(self, data, next=None):\n",
    "        self.data = data\n",
    "        self.next = next\n",
    "        \n",
    "class NodeMgmt:\n",
    "    def __init__(self, data):\n",
    "        self.head = Node(data)\n",
    "        \n",
    "    def add(self, data):\n",
    "        if \"\" == self.head:\n",
    "            self.head = Node(data)\n",
    "        else:\n",
    "            node = self.head\n",
    "            while node.next:\n",
    "                node=node.next\n",
    "            node.next = Node(data)\n",
    "\n",
    "    def delete(self, data):\n",
    "        if \"\" == self.head:\n",
    "            print(\"No data\")\n",
    "            return\n",
    "        else:\n",
    "            if data == self.head.data:\n",
    "                tmp = self.head.next\n",
    "                del(self.head)\n",
    "                self.head = tmp\n",
    "                return\n",
    "            else:\n",
    "                node = self.head\n",
    "                while node.next:\n",
    "                    if data == node.next.data:\n",
    "                        tmp = node.next.next\n",
    "                        del(node.next)\n",
    "                        node.next = tmp\n",
    "                        return\n",
    "                    node = node.next\n",
    "                print(\"There is no match\")\n",
    "                \n",
    "    def deleteAll(self):\n",
    "        del(self.head)\n",
    "        self.head = list()\n",
    "\n",
    "    def desc(self):\n",
    "        if self.head is None:\n",
    "            print(\"Empty linkedlist\")\n",
    "            return\n",
    "        node = self.head\n",
    "        while node:\n",
    "            print(node.data)\n",
    "            node = node.next"
   ]
  },
  {
   "cell_type": "code",
   "execution_count": 35,
   "metadata": {},
   "outputs": [
    {
     "name": "stdout",
     "output_type": "stream",
     "text": [
      "0\n",
      "1\n",
      "2\n",
      "3\n",
      "4\n",
      "5\n",
      "There is no match\n",
      "====================\n",
      "1\n",
      "2\n",
      "4\n",
      "====================\n"
     ]
    }
   ],
   "source": [
    "linkedlist1 = NodeMgmt(0)\n",
    "for i in range(1,6):\n",
    "    linkedlist1.add(i)\n",
    "linkedlist1.desc()\n",
    "\n",
    "linkedlist1.delete(0)\n",
    "linkedlist1.delete(5)\n",
    "linkedlist1.delete(3)\n",
    "linkedlist1.delete(6)\n",
    "print(\"=\" * 20)\n",
    "linkedlist1.desc()\n",
    "\n",
    "linkedlist1.deleteAll()\n",
    "print(\"=\" * 20)\n",
    "linkedlist1.desc()"
   ]
  }
 ],
 "metadata": {
  "kernelspec": {
   "display_name": "Python 3",
   "language": "python",
   "name": "python3"
  },
  "language_info": {
   "codemirror_mode": {
    "name": "ipython",
    "version": 3
   },
   "file_extension": ".py",
   "mimetype": "text/x-python",
   "name": "python",
   "nbconvert_exporter": "python",
   "pygments_lexer": "ipython3",
   "version": "3.7.6"
  }
 },
 "nbformat": 4,
 "nbformat_minor": 4
}
